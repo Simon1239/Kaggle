{
 "cells": [
  {
   "cell_type": "code",
   "execution_count": 1,
   "metadata": {
    "collapsed": true
   },
   "outputs": [],
   "source": [
    "import pandas as pd\n",
    "\n",
    "# load data\n",
    "store = pd.read_csv('D:\\\\Practice\\\\Kaggle\\\\Store Sales\\\\data\\\\stores.csv')\n",
    "train = pd.read_csv('D:\\\\Practice\\\\Kaggle\\\\Store Sales\\\\data\\\\train.csv')\n"
   ]
  },
  {
   "cell_type": "code",
   "execution_count": 3,
   "metadata": {},
   "outputs": [
    {
     "name": "stdout",
     "output_type": "stream",
     "text": [
      "<class 'pandas.core.frame.DataFrame'>\nRangeIndex: 54 entries, 0 to 53\nData columns (total 5 columns):\n #   Column     Non-Null Count  Dtype \n---  ------     --------------  ----- \n 0   store_nbr  54 non-null     int64 \n 1   city       54 non-null     object\n 2   state      54 non-null     object\n 3   type       54 non-null     object\n 4   cluster    54 non-null     int64 \ndtypes: int64(2), object(3)\nmemory usage: 2.2+ KB\n"
     ]
    }
   ],
   "source": [
    "store.info()"
   ]
  },
  {
   "cell_type": "code",
   "execution_count": 4,
   "metadata": {},
   "outputs": [
    {
     "name": "stdout",
     "output_type": "stream",
     "text": [
      "<class 'pandas.core.frame.DataFrame'>\nRangeIndex: 3000888 entries, 0 to 3000887\nData columns (total 6 columns):\n #   Column       Dtype  \n---  ------       -----  \n 0   id           int64  \n 1   date         object \n 2   store_nbr    int64  \n 3   family       object \n 4   sales        float64\n 5   onpromotion  int64  \ndtypes: float64(1), int64(3), object(2)\nmemory usage: 137.4+ MB\n"
     ]
    }
   ],
   "source": [
    "train.info()"
   ]
  },
  {
   "cell_type": "code",
   "execution_count": null,
   "metadata": {},
   "outputs": [],
   "source": []
  }
 ],
 "metadata": {
  "kernelspec": {
   "display_name": "Python 2",
   "language": "python",
   "name": "python2"
  },
  "language_info": {
   "codemirror_mode": {
    "name": "ipython",
    "version": 2
   },
   "file_extension": ".py",
   "mimetype": "text/x-python",
   "name": "python",
   "nbconvert_exporter": "python",
   "pygments_lexer": "ipython2",
   "version": "2.7.6"
  }
 },
 "nbformat": 4,
 "nbformat_minor": 0
}
